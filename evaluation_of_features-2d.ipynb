{
 "cells": [
  {
   "cell_type": "markdown",
   "metadata": {},
   "source": [
    "__PREPARING DATASET__"
   ]
  },
  {
   "cell_type": "code",
   "execution_count": 105,
   "metadata": {},
   "outputs": [],
   "source": [
    "import numpy as np\n",
    "import os\n",
    "import matplotlib.pyplot as plt\n",
    "%matplotlib inline\n",
    "import sklearn\n",
    "from sklearn.model_selection import RandomizedSearchCV\n",
    "\n",
    "from sklearn.svm import SVC\n",
    "from sklearn.neighbors import KNeighborsClassifier\n",
    "from sklearn.ensemble import RandomForestClassifier\n",
    "from sklearn.ensemble import AdaBoostClassifier"
   ]
  },
  {
   "cell_type": "code",
   "execution_count": 224,
   "metadata": {},
   "outputs": [],
   "source": [
    "FEATURES_DIR = 'F:/src/features'\n",
    "# coocc_features_fp = os.path.join(FEATURES_DIR, 'f_coocc_288.txt')\n",
    "aec2d_features_fp = os.path.join(FEATURES_DIR, 'f_aec2d_new_half_size_0.2_256.txt')\n",
    "aec2d_test_features_fp = os.path.join(FEATURES_DIR, 'f_aec2d_new_half_size_0.2_256_test.txt')"
   ]
  },
  {
   "cell_type": "code",
   "execution_count": 225,
   "metadata": {},
   "outputs": [
    {
     "name": "stdout",
     "output_type": "stream",
     "text": [
      "(3617, 35)\n",
      "(915, 35)\n"
     ]
    }
   ],
   "source": [
    "#проверяем пересечение множеств id (методы могли упасть на разных данных)\n",
    "# coocc_features = np.loadtxt(coocc_features_fp,delimiter=',', dtype=str)\n",
    "# print(coocc_features.shape)\n",
    "# coocc_ids = set(coocc_features[:,2])\n",
    "\n",
    "aec2d_features = np.loadtxt(aec2d_features_fp, delimiter=',', dtype=str)\n",
    "aec2d_test_features = np.loadtxt(aec2d_test_features_fp, delimiter=',', dtype=str)\n",
    "print(aec2d_features.shape)\n",
    "print(aec2d_test_features.shape)\n",
    "aec2d_ids = set(aec2d_features[:,2])\n",
    "aec2d_test_ids = set(aec2d_test_features[:,2])\n",
    "\n",
    "#assert coocc_ids == aec_ids, 'patients sets differs!'"
   ]
  },
  {
   "cell_type": "code",
   "execution_count": 218,
   "metadata": {},
   "outputs": [
    {
     "name": "stdout",
     "output_type": "stream",
     "text": [
      "['F18' 'F19' 'F20' 'F21' 'F22' 'F23' 'F38' 'F39' 'F40' 'F41' 'F42' 'F43'\n",
      " 'M18' 'M19' 'M20' 'M21' 'M22' 'M23' 'M38' 'M39' 'M40' 'M41' 'M42' 'M43'] [178 158 138 179 226  47 110 141 181 271 179 132 172  98 174 172  93  93\n",
      " 121 150 174 125 186 119]\n",
      "minimal age-sex group size: 47\n"
     ]
    }
   ],
   "source": [
    "gender_age = [gender+age for gender, age in zip(aec2d_features[:,0], aec2d_features[:,1])]\n",
    "u,c = np.unique(gender_age, return_counts=True)\n",
    "hist = np.histogram(c, bins=u)\n",
    "print(u,c)\n",
    "GROUP_SIZE = min(c)\n",
    "print('minimal age-sex group size:', GROUP_SIZE)"
   ]
  },
  {
   "cell_type": "code",
   "execution_count": 13,
   "metadata": {
    "collapsed": true,
    "jupyter": {
     "outputs_hidden": true
    },
    "tags": []
   },
   "outputs": [
    {
     "name": "stdout",
     "output_type": "stream",
     "text": [
      "FEMALE:\n",
      " (12133, 131)\n",
      "\n",
      "MALE:\n",
      " (12851, 131)\n",
      "train group size 622\n",
      "18 (959, 131)\n",
      "18 (995, 131)\n",
      "19 (1122, 131)\n",
      "19 (1051, 131)\n",
      "20 (890, 131)\n",
      "20 (1220, 131)\n",
      "21 (1243, 131)\n",
      "21 (1261, 131)\n",
      "22 (1147, 131)\n",
      "22 (1012, 131)\n",
      "23 (692, 131)\n",
      "23 (881, 131)\n",
      "38 (990, 131)\n",
      "38 (1182, 131)\n",
      "39 (1058, 131)\n",
      "39 (988, 131)\n",
      "40 (1124, 131)\n",
      "40 (1123, 131)\n",
      "41 (1152, 131)\n",
      "41 (1262, 131)\n",
      "42 (991, 131)\n",
      "42 (1048, 131)\n",
      "43 (765, 131)\n",
      "43 (828, 131)\n",
      "train idx 14928\n",
      "test idx 1680\n"
     ]
    }
   ],
   "source": [
    "# fem_idx = np.argwhere(aec2d_features[:,0] == 'F')\n",
    "# m_idx = np.argwhere(aec2d_features[:,0] == 'M')\n",
    "# females = np.squeeze(aec2d_features[fem_idx,:])\n",
    "# males = np.squeeze(aec2d_features[m_idx,:])\n",
    "# print('FEMALE:\\n', females.shape)\n",
    "# print('\\nMALE:\\n', males.shape)\n",
    "\n",
    "# N = int(GROUP_SIZE*0.9)\n",
    "# print('train group size', N)\n",
    "# n = GROUP_SIZE - N\n",
    "# train_idx = []\n",
    "# test_idx = []\n",
    "# for age in ['18', '19', '20', '21', '22', '23', '38', '39', '40', '41', '42', '43']:\n",
    "#     for arr in [females, males]:\n",
    "#         tr_f = np.squeeze(arr[np.argwhere(arr[:,1] == age)])\n",
    "#         print(age, tr_f.shape)\n",
    "#         train_idx += list(tr_f[:N, 2])\n",
    "#         test_idx += list(tr_f[N:N+n, 2])\n",
    "# print('train idx', len(train_idx))\n",
    "# print('test idx', len(test_idx))"
   ]
  },
  {
   "cell_type": "code",
   "execution_count": 226,
   "metadata": {},
   "outputs": [],
   "source": [
    "ROOT_DIR = 'F:/' #TODO: change\n",
    "OUT_DIR = os.path.join(ROOT_DIR, 'checkpoints//aec')\n",
    "data_path = os.path.join(ROOT_DIR, 'kt_dataset_dicom')\n",
    "\n",
    "train_files_list = ROOT_DIR + 'dicom_train_list.txt'\n",
    "val_files_list = ROOT_DIR + 'val_list_id.txt'\n",
    "half_val_files_list = ROOT_DIR + 'half_sized_val_list.txt'\n",
    "\n",
    "train_file = open(train_files_list, 'r')\n",
    "val_file = open(half_val_files_list, 'r')\n",
    "train_idx = []\n",
    "test_idx = []\n",
    "\n",
    "for line in train_file.readlines():\n",
    "    line = line.split('_')[1]\n",
    "    train_idx.append(line.split('/')[0])\n",
    "    \n",
    "for line in val_file.readlines():\n",
    "    line = line.split('_')[1]\n",
    "    test_idx.append(line.split('/')[0])"
   ]
  },
  {
   "cell_type": "code",
   "execution_count": 227,
   "metadata": {
    "scrolled": true
   },
   "outputs": [
    {
     "name": "stdout",
     "output_type": "stream",
     "text": [
      "train idx 3617\n",
      "test idx 915\n"
     ]
    }
   ],
   "source": [
    "print('train idx', len(train_idx))\n",
    "print('test idx', len(test_idx))\n",
    "# print(train_idx[0])\n"
   ]
  },
  {
   "cell_type": "code",
   "execution_count": 228,
   "metadata": {
    "scrolled": false
   },
   "outputs": [
    {
     "name": "stdout",
     "output_type": "stream",
     "text": [
      "train shape (3617, 32)\n",
      "test shape (915, 32)\n"
     ]
    }
   ],
   "source": [
    "X_train, y_train, X_test, y_test = get_experiment_data(aec2d_features, aec2d_test_features, train_idx, test_idx)"
   ]
  },
  {
   "cell_type": "code",
   "execution_count": 229,
   "metadata": {},
   "outputs": [
    {
     "data": {
      "text/plain": [
       "array([0.24474743, 5.0515637 , 2.842302  , 0.83553135, 0.        ,\n",
       "       4.4130406 , 3.3205523 , 5.7624326 , 0.        , 5.327799  ,\n",
       "       2.4392748 , 0.6409592 , 3.569295  , 3.3345418 , 0.        ,\n",
       "       5.962365  , 5.6844916 , 1.3398347 , 4.285871  , 4.160901  ,\n",
       "       5.4202533 , 0.7940262 , 2.0789604 , 3.917888  , 2.1439786 ,\n",
       "       2.5608718 , 2.5224357 , 4.0880823 , 6.326989  , 6.4265146 ,\n",
       "       6.442129  , 4.9727955 ])"
      ]
     },
     "execution_count": 229,
     "metadata": {},
     "output_type": "execute_result"
    }
   ],
   "source": [
    "X_test[0]"
   ]
  },
  {
   "cell_type": "code",
   "execution_count": 210,
   "metadata": {},
   "outputs": [],
   "source": [
    "def get_experiment_data(train_features, test_features, train_idx, test_idx):\n",
    "    X_train = np.zeros(shape=(len(train_idx), train_features.shape[1] - 3))\n",
    "    print('train shape', X_train.shape)\n",
    "    unique_train_idx = np.unique(train_idx)\n",
    "    y_train = np.zeros(shape=len(train_idx))\n",
    "    for i, pid in enumerate(unique_train_idx):\n",
    "        k = np.argwhere(train_features[:, 2] == pid)\n",
    "        for j in k:\n",
    "            X_train[j[0], :] = np.squeeze(train_features[j[0], 3:])\n",
    "            y_train[j[0]] = (0 if int(train_features[j[0], 1]) < 24 else 1)\n",
    "\n",
    "    X_test = np.zeros(shape=(len(test_idx), test_features.shape[1] - 3))\n",
    "    unique_test_idx = np.unique(test_idx)\n",
    "    y_test = np.zeros(shape=len(test_idx))\n",
    "    for i, pid in enumerate(unique_test_idx):\n",
    "        k = np.argwhere(test_features[:, 2] == pid)\n",
    "        for j in k:\n",
    "            X_test[j[0], :] = np.squeeze(test_features[j[0], 3:])\n",
    "            y_test[j[0]] = (0 if int(test_features[j[0], 1]) < 24 else 1)\n",
    "\n",
    "    print('test shape', X_test.shape)\n",
    "\n",
    "    return X_train, y_train, X_test, y_test"
   ]
  },
  {
   "cell_type": "code",
   "execution_count": 212,
   "metadata": {},
   "outputs": [],
   "source": [
    "def report(results, n_top=3):\n",
    "    for i in range(1, n_top + 1):\n",
    "        candidates = np.flatnonzero(results['rank_test_score'] == i)\n",
    "        for candidate in candidates:\n",
    "            print(\"Model with rank: {0}\".format(i))\n",
    "            print(\"Mean validation score: {0:.3f} (std: {1:.3f})\".format(\n",
    "                  results['mean_test_score'][candidate],\n",
    "                  results['std_test_score'][candidate]))\n",
    "            print(\"Parameters: {0}\".format(results['params'][candidate]))\n",
    "            print(\"\")\n",
    "    return results['mean_test_score'][np.flatnonzero(results['rank_test_score'] == 1)[0]]\n",
    "\n",
    "\n",
    "def optimize(X, y, clf, param_dist, name, n_iter_search = 20):\n",
    "    random_search = RandomizedSearchCV(clf, param_distributions=param_dist, \n",
    "                                       scoring='accuracy', n_iter=n_iter_search, cv=5)\n",
    "    random_search.fit(X, y)\n",
    "    best_sol = report(random_search.cv_results_)\n",
    "    print(name, best_sol)\n",
    "    \n",
    "\n",
    "def make_experiment(train_features, test_features, train_idx, test_idx):\n",
    "    X_train, y_train, X_test, y_test = get_experiment_data(train_features, test_features, train_idx, test_idx)\n",
    "\n",
    "    #KNN\n",
    "    clf = KNeighborsClassifier()\n",
    "    param_dist = {\"n_neighbors\": np.arange(1, 21, 1)}\n",
    "    optimize(X_train, y_train, clf, param_dist, 'KNN')\n",
    "    \n",
    "    #Random forest\n",
    "    clf = RandomForestClassifier()\n",
    "    param_dist = {\"n_estimators\": np.arange(1, 50, 5),\n",
    "              \"max_depth\": np.arange(1, 3, 1)}\n",
    "    optimize(X_train, y_train, clf, param_dist, 'RF')\n",
    "    \n",
    "    #AdaBoost\n",
    "    clf = AdaBoostClassifier()\n",
    "    param_dist = {\"n_estimators\": np.arange(1, 200, 5),\n",
    "                \"learning_rate\": np.arange(0.1, 1.1, 0.2)}\n",
    "    optimize(X_train, y_train, clf, param_dist, 'Ada', 50)\n",
    "        \n",
    "    #SVM\n",
    "    clf = SVC()\n",
    "    param_dist = {\"kernel\": ['linear', 'poly', 'rbf'],\n",
    "              \"C\": [10**(_) for _ in np.arange(-5, 6, 1, dtype=float)],\n",
    "              \"degree\": np.arange(1, 7, 1)}\n",
    "    optimize(X_train, y_train, clf, param_dist, 'SVM', 30)\n",
    "    "
   ]
  },
  {
   "cell_type": "code",
   "execution_count": 230,
   "metadata": {
    "scrolled": true
   },
   "outputs": [
    {
     "name": "stdout",
     "output_type": "stream",
     "text": [
      "\n",
      "WORKING ON AEC FEATURES\n",
      "\n",
      "train shape (3617, 32)\n",
      "test shape (915, 32)\n",
      "Model with rank: 1\n",
      "Mean validation score: 0.492 (std: 0.032)\n",
      "Parameters: {'n_neighbors': 20}\n",
      "\n",
      "Model with rank: 2\n",
      "Mean validation score: 0.490 (std: 0.026)\n",
      "Parameters: {'n_neighbors': 19}\n",
      "\n",
      "Model with rank: 3\n",
      "Mean validation score: 0.489 (std: 0.030)\n",
      "Parameters: {'n_neighbors': 17}\n",
      "\n",
      "KNN 0.49212917325752886\n",
      "Model with rank: 1\n",
      "Mean validation score: 0.526 (std: 0.050)\n",
      "Parameters: {'n_estimators': 31, 'max_depth': 2}\n",
      "\n",
      "Model with rank: 2\n",
      "Mean validation score: 0.519 (std: 0.044)\n",
      "Parameters: {'n_estimators': 16, 'max_depth': 2}\n",
      "\n",
      "Model with rank: 3\n",
      "Mean validation score: 0.518 (std: 0.039)\n",
      "Parameters: {'n_estimators': 6, 'max_depth': 1}\n",
      "\n",
      "RF 0.5255985267034992\n",
      "Model with rank: 1\n",
      "Mean validation score: 0.530 (std: 0.051)\n",
      "Parameters: {'n_estimators': 11, 'learning_rate': 0.7000000000000001}\n",
      "\n",
      "Model with rank: 2\n",
      "Mean validation score: 0.523 (std: 0.056)\n",
      "Parameters: {'n_estimators': 6, 'learning_rate': 0.5000000000000001}\n",
      "\n",
      "Model with rank: 3\n",
      "Mean validation score: 0.515 (std: 0.048)\n",
      "Parameters: {'n_estimators': 26, 'learning_rate': 0.7000000000000001}\n",
      "\n",
      "Ada 0.530015741653485\n",
      "Model with rank: 1\n",
      "Mean validation score: 0.537 (std: 0.059)\n",
      "Parameters: {'kernel': 'poly', 'degree': 2, 'C': 0.1}\n",
      "\n",
      "Model with rank: 2\n",
      "Mean validation score: 0.523 (std: 0.066)\n",
      "Parameters: {'kernel': 'rbf', 'degree': 2, 'C': 1.0}\n",
      "\n",
      "Model with rank: 3\n",
      "Mean validation score: 0.522 (std: 0.001)\n",
      "Parameters: {'kernel': 'rbf', 'degree': 3, 'C': 0.001}\n",
      "\n",
      "Model with rank: 3\n",
      "Mean validation score: 0.522 (std: 0.001)\n",
      "Parameters: {'kernel': 'poly', 'degree': 4, 'C': 0.0001}\n",
      "\n",
      "Model with rank: 3\n",
      "Mean validation score: 0.522 (std: 0.001)\n",
      "Parameters: {'kernel': 'poly', 'degree': 3, 'C': 0.001}\n",
      "\n",
      "Model with rank: 3\n",
      "Mean validation score: 0.522 (std: 0.001)\n",
      "Parameters: {'kernel': 'linear', 'degree': 1, 'C': 1e-05}\n",
      "\n",
      "Model with rank: 3\n",
      "Mean validation score: 0.522 (std: 0.001)\n",
      "Parameters: {'kernel': 'rbf', 'degree': 3, 'C': 0.01}\n",
      "\n",
      "Model with rank: 3\n",
      "Mean validation score: 0.522 (std: 0.001)\n",
      "Parameters: {'kernel': 'rbf', 'degree': 2, 'C': 1e-05}\n",
      "\n",
      "Model with rank: 3\n",
      "Mean validation score: 0.522 (std: 0.001)\n",
      "Parameters: {'kernel': 'rbf', 'degree': 4, 'C': 0.001}\n",
      "\n",
      "Model with rank: 3\n",
      "Mean validation score: 0.522 (std: 0.001)\n",
      "Parameters: {'kernel': 'rbf', 'degree': 4, 'C': 0.0001}\n",
      "\n",
      "Model with rank: 3\n",
      "Mean validation score: 0.522 (std: 0.001)\n",
      "Parameters: {'kernel': 'poly', 'degree': 5, 'C': 1e-05}\n",
      "\n",
      "Model with rank: 3\n",
      "Mean validation score: 0.522 (std: 0.001)\n",
      "Parameters: {'kernel': 'poly', 'degree': 4, 'C': 1e-05}\n",
      "\n",
      "Model with rank: 3\n",
      "Mean validation score: 0.522 (std: 0.001)\n",
      "Parameters: {'kernel': 'rbf', 'degree': 6, 'C': 1e-05}\n",
      "\n",
      "SVM 0.5374880600322474\n"
     ]
    }
   ],
   "source": [
    "print(\"\\nWORKING ON AEC FEATURES\\n\")\n",
    "make_experiment(aec2d_features, aec2d_test_features, train_idx, test_idx)"
   ]
  },
  {
   "cell_type": "code",
   "execution_count": null,
   "metadata": {},
   "outputs": [],
   "source": [
    "print(\"\\nWORKING ON CO-OCCURENCES FEATURES\\n\")\n",
    "make_experiment(coocc_features, train_idx, test_idx)"
   ]
  }
 ],
 "metadata": {
  "kernelspec": {
   "display_name": "Python 3",
   "language": "python",
   "name": "python3"
  },
  "language_info": {
   "codemirror_mode": {
    "name": "ipython",
    "version": 3
   },
   "file_extension": ".py",
   "mimetype": "text/x-python",
   "name": "python",
   "nbconvert_exporter": "python",
   "pygments_lexer": "ipython3",
   "version": "3.6.10"
  }
 },
 "nbformat": 4,
 "nbformat_minor": 4
}
