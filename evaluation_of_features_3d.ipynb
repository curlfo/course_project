{
 "cells": [
  {
   "cell_type": "markdown",
   "metadata": {},
   "source": [
    "__PREPARING DATASET__"
   ]
  },
  {
   "cell_type": "code",
   "execution_count": 34,
   "metadata": {},
   "outputs": [],
   "source": [
    "import numpy as np\n",
    "import os\n",
    "import matplotlib.pyplot as plt\n",
    "%matplotlib inline\n",
    "import sklearn\n",
    "from sklearn.model_selection import RandomizedSearchCV\n",
    "\n",
    "from sklearn.svm import SVC\n",
    "from sklearn.neighbors import KNeighborsClassifier\n",
    "from sklearn.ensemble import RandomForestClassifier\n",
    "from sklearn.ensemble import AdaBoostClassifier"
   ]
  },
  {
   "cell_type": "code",
   "execution_count": 35,
   "metadata": {},
   "outputs": [],
   "source": [
    "FEATURES_DIR = 'F:/src/features/'\n",
    "# coocc_features_fp = os.path.join(FEATURES_DIR, 'f_coocc_288.txt')\n",
    "aec_features_fp = os.path.join(FEATURES_DIR, 'f_aec3d_68_256.txt')"
   ]
  },
  {
   "cell_type": "code",
   "execution_count": 36,
   "metadata": {},
   "outputs": [
    {
     "name": "stdout",
     "output_type": "stream",
     "text": [
      "(1093, 259)\n"
     ]
    }
   ],
   "source": [
    "#проверяем пересечение множеств id (методы могли упасть на разных данных)\n",
    "# coocc_features = np.loadtxt(coocc_features_fp,delimiter=',', dtype=str)\n",
    "# print(coocc_features.shape)\n",
    "# coocc_ids = set(coocc_features[:,2])\n",
    "\n",
    "aec_features = np.loadtxt(aec_features_fp,delimiter=',', dtype=str)\n",
    "print(aec_features.shape)\n",
    "# aec_ids = set(aec_features[:,2])\n",
    "\n",
    "#assert coocc_ids == aec_ids, 'patients sets differs!'"
   ]
  },
  {
   "cell_type": "code",
   "execution_count": 29,
   "metadata": {},
   "outputs": [
    {
     "name": "stdout",
     "output_type": "stream",
     "text": [
      "['F18' 'F19' 'F20' 'F21' 'F22' 'F23' 'F38' 'F39' 'F40' 'F41' 'F42' 'F43'\n",
      " 'M18' 'M19' 'M20' 'M21' 'M22' 'M23' 'M38' 'M39' 'M40' 'M41' 'M42' 'M43'] [29 40 37 55 31 45 45 47 42 35 38 44 35 42 49 58 27 72 59 62 71 25 59 46]\n",
      "minimal age-sex group size: 25\n"
     ]
    }
   ],
   "source": [
    "gender_age = [gender+age for gender, age in zip(aec_features[:,0], aec_features[:,1])]\n",
    "u,c = np.unique(gender_age, return_counts=True)\n",
    "hist = np.histogram(c, bins=u)\n",
    "print(u,c)\n",
    "GROUP_SIZE = min(c)\n",
    "print('minimal age-sex group size:', GROUP_SIZE)"
   ]
  },
  {
   "cell_type": "code",
   "execution_count": 37,
   "metadata": {
    "jupyter": {
     "outputs_hidden": true
    },
    "tags": []
   },
   "outputs": [
    {
     "name": "stdout",
     "output_type": "stream",
     "text": [
      "FEMALE:\n",
      " (488, 259)\n",
      "\n",
      "MALE:\n",
      " (605, 259)\n",
      "train group size 22\n",
      "18 (29, 259)\n",
      "18 (35, 259)\n",
      "19 (40, 259)\n",
      "19 (42, 259)\n",
      "20 (37, 259)\n",
      "20 (49, 259)\n",
      "21 (55, 259)\n",
      "21 (58, 259)\n",
      "38 (45, 259)\n",
      "38 (59, 259)\n",
      "39 (47, 259)\n",
      "39 (62, 259)\n",
      "40 (42, 259)\n",
      "40 (71, 259)\n",
      "41 (35, 259)\n",
      "41 (25, 259)\n",
      "train idx 352\n",
      "test idx 48\n"
     ]
    }
   ],
   "source": [
    "fem_idx = np.argwhere(aec_features[:,0] == 'F')\n",
    "m_idx = np.argwhere(aec_features[:,0] == 'M')\n",
    "females = np.squeeze(aec_features[fem_idx,:])\n",
    "males = np.squeeze(aec_features[m_idx,:])\n",
    "print('FEMALE:\\n', females.shape)\n",
    "print('\\nMALE:\\n', males.shape)\n",
    "\n",
    "N = int(GROUP_SIZE*0.9)\n",
    "print('train group size', N)\n",
    "n = GROUP_SIZE - N\n",
    "train_idx = []\n",
    "test_idx = []\n",
    "for age in ['18', '19', '20', '21', '38', '39', '40', '41']:\n",
    "    for arr in [females, males]:\n",
    "        tr_f = np.squeeze(arr[np.argwhere(arr[:,1] == age)])\n",
    "        print(age, tr_f.shape)\n",
    "        train_idx += list(tr_f[:N, 2])\n",
    "        test_idx += list(tr_f[N:N+n, 2])\n",
    "print('train idx', len(train_idx))\n",
    "print('test idx', len(test_idx))"
   ]
  },
  {
   "cell_type": "code",
   "execution_count": 38,
   "metadata": {},
   "outputs": [],
   "source": [
    "def get_experiment_data(features, train_idx, test_idx):\n",
    "    X_train = np.zeros(shape=(len(train_idx), features.shape[1] - 3))\n",
    "    print('train shape', X_train.shape)\n",
    "    y_train = np.concatenate((np.zeros(len(train_idx)//2), np.ones(len(train_idx)//2)))\n",
    "    for i, pid in enumerate(train_idx):\n",
    "        k = np.argwhere(features[:,2] == pid)\n",
    "        X_train[i, :] = np.squeeze(features[k, 3:])\n",
    "        \n",
    "    X_test = np.zeros(shape=(len(test_idx), features.shape[1] - 3))\n",
    "    for i, pid in enumerate(test_idx):\n",
    "        k = np.argwhere(features[:,2] == pid)\n",
    "        X_test[i, :] = np.squeeze(features[k, 3:])\n",
    "        \n",
    "    print('test shape', X_test.shape)\n",
    "    y_test = np.concatenate((np.zeros(len(test_idx)//2), np.ones(len(test_idx)//2)))\n",
    "    \n",
    "    idx = np.random.permutation(len(y_train))\n",
    "    X_train = X_train[idx]\n",
    "    y_train = y_train[idx]\n",
    "    \n",
    "    idx = np.random.permutation(len(y_test))\n",
    "    X_test = X_test[idx]\n",
    "    y_test = y_test[idx]\n",
    "    \n",
    "    return X_train, y_train, X_test, y_test"
   ]
  },
  {
   "cell_type": "code",
   "execution_count": 39,
   "metadata": {},
   "outputs": [],
   "source": [
    "def report(results, n_top=3):\n",
    "    for i in range(1, n_top + 1):\n",
    "        candidates = np.flatnonzero(results['rank_test_score'] == i)\n",
    "        for candidate in candidates:\n",
    "            print(\"Model with rank: {0}\".format(i))\n",
    "            print(\"Mean validation score: {0:.3f} (std: {1:.3f})\".format(\n",
    "                  results['mean_test_score'][candidate],\n",
    "                  results['std_test_score'][candidate]))\n",
    "            print(\"Parameters: {0}\".format(results['params'][candidate]))\n",
    "            print(\"\")\n",
    "    return results['mean_test_score'][np.flatnonzero(results['rank_test_score'] == 1)[0]]\n",
    "\n",
    "\n",
    "def optimize(X, y, clf, param_dist, name, n_iter_search = 20):\n",
    "    random_search = RandomizedSearchCV(clf, param_distributions=param_dist, \n",
    "                                       scoring='accuracy', n_iter=n_iter_search, cv=5)\n",
    "    random_search.fit(X, y)\n",
    "    best_sol = report(random_search.cv_results_)\n",
    "    print(name, best_sol)\n",
    "    \n",
    "\n",
    "def make_experiment(features, train_idx, test_idx):\n",
    "    X_train, y_train, X_test, y_test = get_experiment_data(features, train_idx, test_idx)\n",
    "\n",
    "    #KNN\n",
    "    clf = KNeighborsClassifier()\n",
    "    param_dist = {\"n_neighbors\": np.arange(1, 21, 1)}\n",
    "    optimize(X_train, y_train, clf, param_dist, 'KNN')\n",
    "    \n",
    "    #Random forest\n",
    "    clf = RandomForestClassifier()\n",
    "    param_dist = {\"n_estimators\": np.arange(1, 50, 5),\n",
    "              \"max_depth\": np.arange(1, 3, 1)}\n",
    "    optimize(X_train, y_train, clf, param_dist, 'RF')\n",
    "    \n",
    "    #AdaBoost\n",
    "    clf = AdaBoostClassifier()\n",
    "    param_dist = {\"n_estimators\": np.arange(1, 200, 5),\n",
    "                \"learning_rate\": np.arange(0.1, 1.1, 0.2)}\n",
    "    optimize(X_train, y_train, clf, param_dist, 'Ada', 50)\n",
    "        \n",
    "    #SVM\n",
    "    clf = SVC()\n",
    "    param_dist = {\"kernel\": ['linear', 'poly', 'rbf'],\n",
    "              \"C\": [10**(_) for _ in np.arange(-5, 6, 1, dtype=float)],\n",
    "              \"degree\": np.arange(1, 7, 1)}\n",
    "    optimize(X_train, y_train, clf, param_dist, 'SVM', 30)\n",
    "    "
   ]
  },
  {
   "cell_type": "code",
   "execution_count": 40,
   "metadata": {},
   "outputs": [
    {
     "name": "stdout",
     "output_type": "stream",
     "text": [
      "\n",
      "WORKING ON AEC FEATURES\n",
      "\n",
      "train shape (352, 256)\n",
      "test shape (48, 256)\n",
      "Model with rank: 1\n",
      "Mean validation score: 0.645 (std: 0.058)\n",
      "Parameters: {'n_neighbors': 14}\n",
      "\n",
      "Model with rank: 2\n",
      "Mean validation score: 0.645 (std: 0.066)\n",
      "Parameters: {'n_neighbors': 10}\n",
      "\n",
      "Model with rank: 3\n",
      "Mean validation score: 0.642 (std: 0.073)\n",
      "Parameters: {'n_neighbors': 12}\n",
      "\n",
      "KNN 0.6448289738430584\n",
      "Model with rank: 1\n",
      "Mean validation score: 0.684 (std: 0.075)\n",
      "Parameters: {'n_estimators': 46, 'max_depth': 2}\n",
      "\n",
      "Model with rank: 2\n",
      "Mean validation score: 0.679 (std: 0.062)\n",
      "Parameters: {'n_estimators': 46, 'max_depth': 1}\n",
      "\n",
      "Model with rank: 3\n",
      "Mean validation score: 0.676 (std: 0.072)\n",
      "Parameters: {'n_estimators': 31, 'max_depth': 2}\n",
      "\n",
      "RF 0.6843863179074446\n",
      "Model with rank: 1\n",
      "Mean validation score: 0.719 (std: 0.063)\n",
      "Parameters: {'n_estimators': 161, 'learning_rate': 0.5000000000000001}\n",
      "\n",
      "Model with rank: 2\n",
      "Mean validation score: 0.710 (std: 0.051)\n",
      "Parameters: {'n_estimators': 176, 'learning_rate': 0.5000000000000001}\n",
      "\n",
      "Model with rank: 3\n",
      "Mean validation score: 0.707 (std: 0.062)\n",
      "Parameters: {'n_estimators': 136, 'learning_rate': 0.5000000000000001}\n",
      "\n",
      "Ada 0.7187122736418512\n",
      "Model with rank: 1\n",
      "Mean validation score: 0.849 (std: 0.024)\n",
      "Parameters: {'kernel': 'linear', 'degree': 4, 'C': 10.0}\n",
      "\n",
      "Model with rank: 2\n",
      "Mean validation score: 0.812 (std: 0.037)\n",
      "Parameters: {'kernel': 'linear', 'degree': 5, 'C': 100.0}\n",
      "\n",
      "Model with rank: 2\n",
      "Mean validation score: 0.812 (std: 0.037)\n",
      "Parameters: {'kernel': 'linear', 'degree': 2, 'C': 100.0}\n",
      "\n",
      "Model with rank: 2\n",
      "Mean validation score: 0.812 (std: 0.037)\n",
      "Parameters: {'kernel': 'linear', 'degree': 1, 'C': 100000.0}\n",
      "\n",
      "Model with rank: 2\n",
      "Mean validation score: 0.812 (std: 0.037)\n",
      "Parameters: {'kernel': 'linear', 'degree': 5, 'C': 10000.0}\n",
      "\n",
      "SVM 0.8493360160965795\n"
     ]
    }
   ],
   "source": [
    "print(\"\\nWORKING ON AEC FEATURES\\n\")\n",
    "make_experiment(aec_features, train_idx, test_idx)"
   ]
  },
  {
   "cell_type": "code",
   "execution_count": null,
   "metadata": {},
   "outputs": [],
   "source": [
    "print(\"\\nWORKING ON CO-OCCURENCES FEATURES\\n\")\n",
    "make_experiment(coocc_features, train_idx, test_idx)"
   ]
  }
 ],
 "metadata": {
  "kernelspec": {
   "display_name": "Python 3",
   "language": "python",
   "name": "python3"
  },
  "language_info": {
   "codemirror_mode": {
    "name": "ipython",
    "version": 3
   },
   "file_extension": ".py",
   "mimetype": "text/x-python",
   "name": "python",
   "nbconvert_exporter": "python",
   "pygments_lexer": "ipython3",
   "version": "3.6.10"
  }
 },
 "nbformat": 4,
 "nbformat_minor": 4
}
